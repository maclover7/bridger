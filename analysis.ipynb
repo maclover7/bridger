{
 "cells": [
  {
   "cell_type": "code",
   "execution_count": 1,
   "id": "61f7fca7-b525-47f4-82c6-cc07999e665a",
   "metadata": {
    "tags": []
   },
   "outputs": [],
   "source": [
    "import pandas as pd\n",
    "import geopandas as gpd"
   ]
  },
  {
   "cell_type": "markdown",
   "id": "33e4df35-7565-4249-bb8b-8dce41c547ea",
   "metadata": {},
   "source": [
    "### Import all bridge projects in Allegheny County"
   ]
  },
  {
   "cell_type": "code",
   "execution_count": 2,
   "id": "e71eec1f-a97f-4b1b-88f1-98bc3e58ca19",
   "metadata": {
    "tags": []
   },
   "outputs": [],
   "source": [
    "future = gpd.read_file('input/Future_Development___All.zip')\n",
    "future = future.set_crs('EPSG:3857')\n",
    "\n",
    "indev = gpd.read_file('input/In_Development___All.zip')\n",
    "indev = indev.set_crs('EPSG:3857')\n",
    "\n",
    "construct = gpd.read_file('input/Under_Construction___All.zip')\n",
    "construct = construct.set_crs('EPSG:3857')"
   ]
  },
  {
   "cell_type": "code",
   "execution_count": 3,
   "id": "52e2a5c9-97ed-4f9d-9a00-dc8cb78aaa83",
   "metadata": {
    "tags": []
   },
   "outputs": [],
   "source": [
    "df = pd.concat([future, indev, construct])\n",
    "df = df.to_crs('EPSG:4326')"
   ]
  },
  {
   "cell_type": "code",
   "execution_count": 4,
   "id": "d5196ab8-3cd8-4215-8b1a-bda3475ce668",
   "metadata": {
    "tags": []
   },
   "outputs": [
    {
     "name": "stdout",
     "output_type": "stream",
     "text": [
      "<class 'geopandas.geodataframe.GeoDataFrame'>\n",
      "Int64Index: 1041 entries, 0 to 467\n",
      "Columns: 125 entries, GISDATA_PR to geometry\n",
      "dtypes: float64(11), geometry(1), int64(13), object(100)\n",
      "memory usage: 1.0+ MB\n"
     ]
    }
   ],
   "source": [
    "df.info()"
   ]
  },
  {
   "cell_type": "markdown",
   "id": "69128323-106b-4bbe-a139-7f0a71f2c56f",
   "metadata": {},
   "source": [
    "### Restrict to Pittsburgh-owned bridges, only include projects once"
   ]
  },
  {
   "cell_type": "code",
   "execution_count": 5,
   "id": "9c263073-4fea-4ee1-b744-440ab3d0c94c",
   "metadata": {
    "tags": []
   },
   "outputs": [],
   "source": [
    "df = df[df['PROJECT_SP'] == 'City of Pittsburgh']"
   ]
  },
  {
   "cell_type": "code",
   "execution_count": 6,
   "id": "e1963a82-acf1-4c94-8010-4ce0e4f00a86",
   "metadata": {
    "tags": []
   },
   "outputs": [],
   "source": [
    "df = df.drop_duplicates('PROJECT_ID')\n",
    "df = df.reset_index(drop=True)"
   ]
  },
  {
   "cell_type": "code",
   "execution_count": 7,
   "id": "c1be5024-4214-4c2f-84fd-cacaf7a6c23f",
   "metadata": {
    "tags": []
   },
   "outputs": [
    {
     "name": "stdout",
     "output_type": "stream",
     "text": [
      "<class 'geopandas.geodataframe.GeoDataFrame'>\n",
      "RangeIndex: 24 entries, 0 to 23\n",
      "Columns: 125 entries, GISDATA_PR to geometry\n",
      "dtypes: float64(11), geometry(1), int64(13), object(100)\n",
      "memory usage: 23.6+ KB\n"
     ]
    }
   ],
   "source": [
    "df.info()"
   ]
  },
  {
   "cell_type": "markdown",
   "id": "3af24e9c-9f05-4070-beef-d35836604067",
   "metadata": {},
   "source": [
    "### Format fields"
   ]
  },
  {
   "cell_type": "code",
   "execution_count": 8,
   "id": "6d43348e-8856-4e05-9f41-d80010d1810b",
   "metadata": {
    "tags": []
   },
   "outputs": [],
   "source": [
    "df['PROJECT__6'] = df['PROJECT__6'].str.title()\n",
    "df['PUBLIC_NAR'] = df['PUBLIC_NAR'].str.replace('(Sponor = City of Pittsburgh) ', '', regex=False)\n",
    "df['PUBLIC_NAR'] = df['PUBLIC_NAR'].str.replace('(Sponsor = City of Pittsburgh)', '', regex=False)\n",
    "df['PUBLIC_NAR'] = df['PUBLIC_NAR'].str.replace('(Project sponsor = City of Pittsburgh)', '', regex=False)"
   ]
  },
  {
   "cell_type": "code",
   "execution_count": 9,
   "id": "a333a1b8-adb1-4dfc-81b0-f97ad62e8ad6",
   "metadata": {},
   "outputs": [],
   "source": [
    "df['EST_CONSTR'] = df['EST_CONSTR'].map(lambda x: '${:,}'.format(int(x)))"
   ]
  },
  {
   "cell_type": "code",
   "execution_count": 10,
   "id": "ac227bb4-824b-4a51-8fb5-62608fffb972",
   "metadata": {
    "tags": []
   },
   "outputs": [],
   "source": [
    "df.loc[df['COMPLETI_1'].notna(), 'COMPLETI_1 DT'] = pd.to_datetime(df['COMPLETI_1'], format='%Y%m%d')\n",
    "\n",
    "df.loc[df['COMPLETI_1'].notna(), 'COMPLETI_1'] = df['COMPLETI_1 DT'].dt.strftime('%m/%d/%Y')\n",
    "df.loc[df['COMPLETI_1'].isna(), 'COMPLETI_1'] = 'Unknown'"
   ]
  },
  {
   "cell_type": "code",
   "execution_count": 11,
   "id": "7273b5e0-fb53-47da-974e-d9b2a9924e7e",
   "metadata": {},
   "outputs": [],
   "source": [
    "df['NTP_DATE'] = pd.to_datetime(df['NTP_DATE'], format='%Y%m%d')\n",
    "df['NTP_DATE'] = df['NTP_DATE'].dt.strftime('%m/%d/%Y')"
   ]
  },
  {
   "cell_type": "code",
   "execution_count": 12,
   "id": "0eb93179-9d6a-45e0-8777-54a3a645a5d0",
   "metadata": {
    "tags": []
   },
   "outputs": [],
   "source": [
    "df['lng'] = df.apply(lambda x: x['geometry'].coords[0][0], axis=1)\n",
    "df['lat'] = df.apply(lambda x: x['geometry'].coords[0][1], axis=1)"
   ]
  },
  {
   "cell_type": "markdown",
   "id": "2234ff0f-2286-443e-aecf-f314a905205d",
   "metadata": {},
   "source": [
    "### Datawrapper-ify fields"
   ]
  },
  {
   "cell_type": "code",
   "execution_count": 13,
   "id": "e7ff5153-034e-42bd-b987-e8f4c739d08e",
   "metadata": {
    "tags": []
   },
   "outputs": [],
   "source": [
    "df['color'] = df['PROJECT__6']\n",
    "df['color'] = df['color'].replace({ 'Future Development': 'black', 'In Development': 'yellow', 'Under Construction': 'orange' })"
   ]
  },
  {
   "cell_type": "code",
   "execution_count": 14,
   "id": "4ec8d9d9-75b5-4fab-9005-6557233549fd",
   "metadata": {
    "tags": []
   },
   "outputs": [],
   "source": [
    "df['title'] = ' '\n",
    "df['tooltip'] = df.agg(lambda x: f\"<b>Construction start:</b> {x['NTP_DATE']}\\n<b>Construction stop:</b> {x['COMPLETI_1']}\\n<b>Construction cost:</b> {x['EST_CONSTR']}\\n<b>Public narrative:</b> {x['PUBLIC_NAR']}\\n\", axis=1)"
   ]
  },
  {
   "cell_type": "markdown",
   "id": "a71d6d51-5bcd-4d76-8612-f154213561a2",
   "metadata": {},
   "source": [
    "### Select columns to display"
   ]
  },
  {
   "cell_type": "code",
   "execution_count": 15,
   "id": "ebd50eac-0bcb-4276-a39f-3131418258c9",
   "metadata": {
    "tags": []
   },
   "outputs": [
    {
     "data": {
      "text/html": [
       "<div>\n",
       "<style scoped>\n",
       "    .dataframe tbody tr th:only-of-type {\n",
       "        vertical-align: middle;\n",
       "    }\n",
       "\n",
       "    .dataframe tbody tr th {\n",
       "        vertical-align: top;\n",
       "    }\n",
       "\n",
       "    .dataframe thead th {\n",
       "        text-align: right;\n",
       "    }\n",
       "</style>\n",
       "<table border=\"1\" class=\"dataframe\">\n",
       "  <thead>\n",
       "    <tr style=\"text-align: right;\">\n",
       "      <th></th>\n",
       "      <th>lng</th>\n",
       "      <th>lat</th>\n",
       "      <th>title</th>\n",
       "      <th>color</th>\n",
       "      <th>tooltip</th>\n",
       "    </tr>\n",
       "  </thead>\n",
       "  <tbody>\n",
       "    <tr>\n",
       "      <th>0</th>\n",
       "      <td>-79.997600</td>\n",
       "      <td>40.394500</td>\n",
       "      <td></td>\n",
       "      <td>black</td>\n",
       "      <td>&lt;b&gt;Construction start:&lt;/b&gt; 07/14/2031\\n&lt;b&gt;Cons...</td>\n",
       "    </tr>\n",
       "    <tr>\n",
       "      <th>1</th>\n",
       "      <td>-79.947500</td>\n",
       "      <td>40.457000</td>\n",
       "      <td></td>\n",
       "      <td>black</td>\n",
       "      <td>&lt;b&gt;Construction start:&lt;/b&gt; 08/14/2034\\n&lt;b&gt;Cons...</td>\n",
       "    </tr>\n",
       "    <tr>\n",
       "      <th>2</th>\n",
       "      <td>-79.981200</td>\n",
       "      <td>40.465700</td>\n",
       "      <td></td>\n",
       "      <td>black</td>\n",
       "      <td>&lt;b&gt;Construction start:&lt;/b&gt; 06/21/2032\\n&lt;b&gt;Cons...</td>\n",
       "    </tr>\n",
       "    <tr>\n",
       "      <th>3</th>\n",
       "      <td>-79.976800</td>\n",
       "      <td>40.423600</td>\n",
       "      <td></td>\n",
       "      <td>black</td>\n",
       "      <td>&lt;b&gt;Construction start:&lt;/b&gt; 06/14/2032\\n&lt;b&gt;Cons...</td>\n",
       "    </tr>\n",
       "    <tr>\n",
       "      <th>4</th>\n",
       "      <td>-79.951818</td>\n",
       "      <td>40.454023</td>\n",
       "      <td></td>\n",
       "      <td>black</td>\n",
       "      <td>&lt;b&gt;Construction start:&lt;/b&gt; 06/14/2032\\n&lt;b&gt;Cons...</td>\n",
       "    </tr>\n",
       "    <tr>\n",
       "      <th>5</th>\n",
       "      <td>-80.043300</td>\n",
       "      <td>40.451700</td>\n",
       "      <td></td>\n",
       "      <td>black</td>\n",
       "      <td>&lt;b&gt;Construction start:&lt;/b&gt; 09/11/2034\\n&lt;b&gt;Cons...</td>\n",
       "    </tr>\n",
       "    <tr>\n",
       "      <th>6</th>\n",
       "      <td>-79.933500</td>\n",
       "      <td>40.456300</td>\n",
       "      <td></td>\n",
       "      <td>yellow</td>\n",
       "      <td>&lt;b&gt;Construction start:&lt;/b&gt; 09/13/2023\\n&lt;b&gt;Cons...</td>\n",
       "    </tr>\n",
       "    <tr>\n",
       "      <th>7</th>\n",
       "      <td>-79.950500</td>\n",
       "      <td>40.426700</td>\n",
       "      <td></td>\n",
       "      <td>yellow</td>\n",
       "      <td>&lt;b&gt;Construction start:&lt;/b&gt; 03/09/2026\\n&lt;b&gt;Cons...</td>\n",
       "    </tr>\n",
       "    <tr>\n",
       "      <th>8</th>\n",
       "      <td>-79.907600</td>\n",
       "      <td>40.467700</td>\n",
       "      <td></td>\n",
       "      <td>yellow</td>\n",
       "      <td>&lt;b&gt;Construction start:&lt;/b&gt; 08/26/2025\\n&lt;b&gt;Cons...</td>\n",
       "    </tr>\n",
       "    <tr>\n",
       "      <th>9</th>\n",
       "      <td>-80.004900</td>\n",
       "      <td>40.472600</td>\n",
       "      <td></td>\n",
       "      <td>yellow</td>\n",
       "      <td>&lt;b&gt;Construction start:&lt;/b&gt; 12/07/2026\\n&lt;b&gt;Cons...</td>\n",
       "    </tr>\n",
       "    <tr>\n",
       "      <th>10</th>\n",
       "      <td>-80.007900</td>\n",
       "      <td>40.471100</td>\n",
       "      <td></td>\n",
       "      <td>yellow</td>\n",
       "      <td>&lt;b&gt;Construction start:&lt;/b&gt; 06/09/2028\\n&lt;b&gt;Cons...</td>\n",
       "    </tr>\n",
       "    <tr>\n",
       "      <th>11</th>\n",
       "      <td>-79.932900</td>\n",
       "      <td>40.383000</td>\n",
       "      <td></td>\n",
       "      <td>yellow</td>\n",
       "      <td>&lt;b&gt;Construction start:&lt;/b&gt; 08/30/2028\\n&lt;b&gt;Cons...</td>\n",
       "    </tr>\n",
       "    <tr>\n",
       "      <th>12</th>\n",
       "      <td>-79.944100</td>\n",
       "      <td>40.407000</td>\n",
       "      <td></td>\n",
       "      <td>yellow</td>\n",
       "      <td>&lt;b&gt;Construction start:&lt;/b&gt; 09/10/2028\\n&lt;b&gt;Cons...</td>\n",
       "    </tr>\n",
       "    <tr>\n",
       "      <th>13</th>\n",
       "      <td>-79.934700</td>\n",
       "      <td>40.380000</td>\n",
       "      <td></td>\n",
       "      <td>yellow</td>\n",
       "      <td>&lt;b&gt;Construction start:&lt;/b&gt; 06/09/2028\\n&lt;b&gt;Cons...</td>\n",
       "    </tr>\n",
       "    <tr>\n",
       "      <th>14</th>\n",
       "      <td>-79.966600</td>\n",
       "      <td>40.460500</td>\n",
       "      <td></td>\n",
       "      <td>yellow</td>\n",
       "      <td>&lt;b&gt;Construction start:&lt;/b&gt; 09/10/2028\\n&lt;b&gt;Cons...</td>\n",
       "    </tr>\n",
       "    <tr>\n",
       "      <th>15</th>\n",
       "      <td>-80.037200</td>\n",
       "      <td>40.472000</td>\n",
       "      <td></td>\n",
       "      <td>yellow</td>\n",
       "      <td>&lt;b&gt;Construction start:&lt;/b&gt; 07/31/2031\\n&lt;b&gt;Cons...</td>\n",
       "    </tr>\n",
       "    <tr>\n",
       "      <th>16</th>\n",
       "      <td>-79.973200</td>\n",
       "      <td>40.455800</td>\n",
       "      <td></td>\n",
       "      <td>yellow</td>\n",
       "      <td>&lt;b&gt;Construction start:&lt;/b&gt; 06/29/2025\\n&lt;b&gt;Cons...</td>\n",
       "    </tr>\n",
       "    <tr>\n",
       "      <th>17</th>\n",
       "      <td>-80.016700</td>\n",
       "      <td>40.425000</td>\n",
       "      <td></td>\n",
       "      <td>yellow</td>\n",
       "      <td>&lt;b&gt;Construction start:&lt;/b&gt; 06/12/2028\\n&lt;b&gt;Cons...</td>\n",
       "    </tr>\n",
       "    <tr>\n",
       "      <th>18</th>\n",
       "      <td>-79.950100</td>\n",
       "      <td>40.434400</td>\n",
       "      <td></td>\n",
       "      <td>yellow</td>\n",
       "      <td>&lt;b&gt;Construction start:&lt;/b&gt; 11/12/2025\\n&lt;b&gt;Cons...</td>\n",
       "    </tr>\n",
       "    <tr>\n",
       "      <th>19</th>\n",
       "      <td>-80.053600</td>\n",
       "      <td>40.464900</td>\n",
       "      <td></td>\n",
       "      <td>yellow</td>\n",
       "      <td>&lt;b&gt;Construction start:&lt;/b&gt; 11/25/2024\\n&lt;b&gt;Cons...</td>\n",
       "    </tr>\n",
       "    <tr>\n",
       "      <th>20</th>\n",
       "      <td>-80.001100</td>\n",
       "      <td>40.402000</td>\n",
       "      <td></td>\n",
       "      <td>orange</td>\n",
       "      <td>&lt;b&gt;Construction start:&lt;/b&gt; 03/03/2007\\n&lt;b&gt;Cons...</td>\n",
       "    </tr>\n",
       "    <tr>\n",
       "      <th>21</th>\n",
       "      <td>-80.010700</td>\n",
       "      <td>40.451600</td>\n",
       "      <td></td>\n",
       "      <td>orange</td>\n",
       "      <td>&lt;b&gt;Construction start:&lt;/b&gt; 02/06/2020\\n&lt;b&gt;Cons...</td>\n",
       "    </tr>\n",
       "    <tr>\n",
       "      <th>22</th>\n",
       "      <td>-79.978800</td>\n",
       "      <td>40.464300</td>\n",
       "      <td></td>\n",
       "      <td>orange</td>\n",
       "      <td>&lt;b&gt;Construction start:&lt;/b&gt; 09/26/2022\\n&lt;b&gt;Cons...</td>\n",
       "    </tr>\n",
       "    <tr>\n",
       "      <th>23</th>\n",
       "      <td>-79.900300</td>\n",
       "      <td>40.439500</td>\n",
       "      <td></td>\n",
       "      <td>orange</td>\n",
       "      <td>&lt;b&gt;Construction start:&lt;/b&gt; 02/03/2022\\n&lt;b&gt;Cons...</td>\n",
       "    </tr>\n",
       "  </tbody>\n",
       "</table>\n",
       "</div>"
      ],
      "text/plain": [
       "          lng        lat title   color  \\\n",
       "0  -79.997600  40.394500         black   \n",
       "1  -79.947500  40.457000         black   \n",
       "2  -79.981200  40.465700         black   \n",
       "3  -79.976800  40.423600         black   \n",
       "4  -79.951818  40.454023         black   \n",
       "5  -80.043300  40.451700         black   \n",
       "6  -79.933500  40.456300        yellow   \n",
       "7  -79.950500  40.426700        yellow   \n",
       "8  -79.907600  40.467700        yellow   \n",
       "9  -80.004900  40.472600        yellow   \n",
       "10 -80.007900  40.471100        yellow   \n",
       "11 -79.932900  40.383000        yellow   \n",
       "12 -79.944100  40.407000        yellow   \n",
       "13 -79.934700  40.380000        yellow   \n",
       "14 -79.966600  40.460500        yellow   \n",
       "15 -80.037200  40.472000        yellow   \n",
       "16 -79.973200  40.455800        yellow   \n",
       "17 -80.016700  40.425000        yellow   \n",
       "18 -79.950100  40.434400        yellow   \n",
       "19 -80.053600  40.464900        yellow   \n",
       "20 -80.001100  40.402000        orange   \n",
       "21 -80.010700  40.451600        orange   \n",
       "22 -79.978800  40.464300        orange   \n",
       "23 -79.900300  40.439500        orange   \n",
       "\n",
       "                                              tooltip  \n",
       "0   <b>Construction start:</b> 07/14/2031\\n<b>Cons...  \n",
       "1   <b>Construction start:</b> 08/14/2034\\n<b>Cons...  \n",
       "2   <b>Construction start:</b> 06/21/2032\\n<b>Cons...  \n",
       "3   <b>Construction start:</b> 06/14/2032\\n<b>Cons...  \n",
       "4   <b>Construction start:</b> 06/14/2032\\n<b>Cons...  \n",
       "5   <b>Construction start:</b> 09/11/2034\\n<b>Cons...  \n",
       "6   <b>Construction start:</b> 09/13/2023\\n<b>Cons...  \n",
       "7   <b>Construction start:</b> 03/09/2026\\n<b>Cons...  \n",
       "8   <b>Construction start:</b> 08/26/2025\\n<b>Cons...  \n",
       "9   <b>Construction start:</b> 12/07/2026\\n<b>Cons...  \n",
       "10  <b>Construction start:</b> 06/09/2028\\n<b>Cons...  \n",
       "11  <b>Construction start:</b> 08/30/2028\\n<b>Cons...  \n",
       "12  <b>Construction start:</b> 09/10/2028\\n<b>Cons...  \n",
       "13  <b>Construction start:</b> 06/09/2028\\n<b>Cons...  \n",
       "14  <b>Construction start:</b> 09/10/2028\\n<b>Cons...  \n",
       "15  <b>Construction start:</b> 07/31/2031\\n<b>Cons...  \n",
       "16  <b>Construction start:</b> 06/29/2025\\n<b>Cons...  \n",
       "17  <b>Construction start:</b> 06/12/2028\\n<b>Cons...  \n",
       "18  <b>Construction start:</b> 11/12/2025\\n<b>Cons...  \n",
       "19  <b>Construction start:</b> 11/25/2024\\n<b>Cons...  \n",
       "20  <b>Construction start:</b> 03/03/2007\\n<b>Cons...  \n",
       "21  <b>Construction start:</b> 02/06/2020\\n<b>Cons...  \n",
       "22  <b>Construction start:</b> 09/26/2022\\n<b>Cons...  \n",
       "23  <b>Construction start:</b> 02/03/2022\\n<b>Cons...  "
      ]
     },
     "execution_count": 15,
     "metadata": {},
     "output_type": "execute_result"
    }
   ],
   "source": [
    "df[[\n",
    "    'lng',\n",
    "    'lat',\n",
    "    'title',\n",
    "    'color',\n",
    "    'tooltip'\n",
    "]]"
   ]
  },
  {
   "cell_type": "code",
   "execution_count": 16,
   "id": "f6cacd17-f8b1-4d0a-9a37-9c9efaab73df",
   "metadata": {
    "tags": []
   },
   "outputs": [],
   "source": [
    "df[[\n",
    "    'lng',\n",
    "    'lat',\n",
    "    'title',\n",
    "    'color',\n",
    "    'tooltip'\n",
    "]].to_csv('output/pgh-bridges.csv', index=False)"
   ]
  }
 ],
 "metadata": {
  "kernelspec": {
   "display_name": "Python 3 (ipykernel)",
   "language": "python",
   "name": "python3"
  },
  "language_info": {
   "codemirror_mode": {
    "name": "ipython",
    "version": 3
   },
   "file_extension": ".py",
   "mimetype": "text/x-python",
   "name": "python",
   "nbconvert_exporter": "python",
   "pygments_lexer": "ipython3",
   "version": "3.10.9"
  }
 },
 "nbformat": 4,
 "nbformat_minor": 5
}
