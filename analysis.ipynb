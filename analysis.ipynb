{
 "cells": [
  {
   "cell_type": "code",
   "execution_count": 1,
   "id": "61f7fca7-b525-47f4-82c6-cc07999e665a",
   "metadata": {
    "tags": []
   },
   "outputs": [],
   "source": [
    "import pandas as pd"
   ]
  },
  {
   "cell_type": "markdown",
   "id": "33e4df35-7565-4249-bb8b-8dce41c547ea",
   "metadata": {},
   "source": [
    "### Import all bridge projects in Allegheny County"
   ]
  },
  {
   "cell_type": "code",
   "execution_count": 2,
   "id": "e71eec1f-a97f-4b1b-88f1-98bc3e58ca19",
   "metadata": {
    "tags": []
   },
   "outputs": [
    {
     "name": "stderr",
     "output_type": "stream",
     "text": [
      "/Users/jon/.local/share/virtualenvs/bridger-lo3S_JL1/lib/python3.10/site-packages/openpyxl/styles/stylesheet.py:226: UserWarning: Workbook contains no default style, apply openpyxl's default\n",
      "  warn(\"Workbook contains no default style, apply openpyxl's default\")\n",
      "/Users/jon/.local/share/virtualenvs/bridger-lo3S_JL1/lib/python3.10/site-packages/openpyxl/styles/stylesheet.py:226: UserWarning: Workbook contains no default style, apply openpyxl's default\n",
      "  warn(\"Workbook contains no default style, apply openpyxl's default\")\n",
      "/Users/jon/.local/share/virtualenvs/bridger-lo3S_JL1/lib/python3.10/site-packages/openpyxl/styles/stylesheet.py:226: UserWarning: Workbook contains no default style, apply openpyxl's default\n",
      "  warn(\"Workbook contains no default style, apply openpyxl's default\")\n"
     ]
    }
   ],
   "source": [
    "future = pd.read_excel('input/future-development.xlsx')\n",
    "indev = pd.read_excel('input/in-development.xlsx')\n",
    "construct = pd.read_excel('input/under-construction.xlsx')"
   ]
  },
  {
   "cell_type": "code",
   "execution_count": 3,
   "id": "52e2a5c9-97ed-4f9d-9a00-dc8cb78aaa83",
   "metadata": {
    "tags": []
   },
   "outputs": [],
   "source": [
    "df = pd.concat([future, indev, construct])"
   ]
  },
  {
   "cell_type": "code",
   "execution_count": 4,
   "id": "d5196ab8-3cd8-4215-8b1a-bda3475ce668",
   "metadata": {
    "tags": []
   },
   "outputs": [
    {
     "name": "stdout",
     "output_type": "stream",
     "text": [
      "<class 'pandas.core.frame.DataFrame'>\n",
      "Int64Index: 2071 entries, 0 to 925\n",
      "Columns: 127 entries, GPID to COMPLETED\n",
      "dtypes: float64(17), int64(30), object(80)\n",
      "memory usage: 2.0+ MB\n"
     ]
    }
   ],
   "source": [
    "df.info()"
   ]
  },
  {
   "cell_type": "markdown",
   "id": "69128323-106b-4bbe-a139-7f0a71f2c56f",
   "metadata": {},
   "source": [
    "### Restrict to Pittsburgh-owned bridges, only include projects once"
   ]
  },
  {
   "cell_type": "code",
   "execution_count": 5,
   "id": "9c263073-4fea-4ee1-b744-440ab3d0c94c",
   "metadata": {
    "tags": []
   },
   "outputs": [],
   "source": [
    "df = df[df['Project Sponsor Name'] == 'City of Pittsburgh']"
   ]
  },
  {
   "cell_type": "code",
   "execution_count": 6,
   "id": "6d43348e-8856-4e05-9f41-d80010d1810b",
   "metadata": {
    "tags": []
   },
   "outputs": [],
   "source": [
    "df['Project Stage'] = df['Project Stage'].str.title()\n",
    "df['PUBLIC_NARRATIVE'] = df['PUBLIC_NARRATIVE'].str.replace('(Sponor = City of Pittsburgh) ', '', regex=False)\n",
    "df['PUBLIC_NARRATIVE'] = df['PUBLIC_NARRATIVE'].str.replace('(Sponsor = City of Pittsburgh)', '', regex=False)\n",
    "df['PUBLIC_NARRATIVE'] = df['PUBLIC_NARRATIVE'].str.replace('(Project sponsor = City of Pittsburgh)', '', regex=False)"
   ]
  },
  {
   "cell_type": "code",
   "execution_count": 7,
   "id": "e1963a82-acf1-4c94-8010-4ce0e4f00a86",
   "metadata": {
    "tags": []
   },
   "outputs": [],
   "source": [
    "df = df.drop_duplicates('Project ID')\n",
    "df = df.reset_index(drop=True)"
   ]
  },
  {
   "cell_type": "code",
   "execution_count": 8,
   "id": "ac227bb4-824b-4a51-8fb5-62608fffb972",
   "metadata": {
    "tags": []
   },
   "outputs": [],
   "source": [
    "df.loc[df['Completion Date'].notna(), 'Completion Date DT'] = pd.to_datetime(df['Completion Date'], format='%Y%m%d')\n",
    "\n",
    "df.loc[df['Completion Date'].isna(), 'COMPLETION_DATE'] = 'Unknown'\n",
    "df.loc[df['Completion Date'].notna(), 'COMPLETION_DATE'] = df['Completion Date DT'].dt.strftime('%m/%d/%Y')"
   ]
  },
  {
   "cell_type": "code",
   "execution_count": 9,
   "id": "7273b5e0-fb53-47da-974e-d9b2a9924e7e",
   "metadata": {},
   "outputs": [],
   "source": [
    "df['NTP Date'] = pd.to_datetime(df['NTP Date'], format='%Y%m%d')\n",
    "\n",
    "df['NTP_DATE'] = ''\n",
    "df.loc[df['NTP Date'].notna(), 'NTP_DATE'] = df['NTP Date'].dt.strftime('%m/%d/%Y')"
   ]
  },
  {
   "cell_type": "code",
   "execution_count": 10,
   "id": "c1be5024-4214-4c2f-84fd-cacaf7a6c23f",
   "metadata": {
    "tags": []
   },
   "outputs": [
    {
     "name": "stdout",
     "output_type": "stream",
     "text": [
      "<class 'pandas.core.frame.DataFrame'>\n",
      "RangeIndex: 24 entries, 0 to 23\n",
      "Columns: 130 entries, GPID to NTP_DATE\n",
      "dtypes: datetime64[ns](2), float64(16), int64(30), object(82)\n",
      "memory usage: 24.5+ KB\n"
     ]
    }
   ],
   "source": [
    "df.info()"
   ]
  },
  {
   "cell_type": "markdown",
   "id": "a71d6d51-5bcd-4d76-8612-f154213561a2",
   "metadata": {},
   "source": [
    "### Properly format"
   ]
  },
  {
   "cell_type": "code",
   "execution_count": 11,
   "id": "ebd50eac-0bcb-4276-a39f-3131418258c9",
   "metadata": {
    "tags": []
   },
   "outputs": [
    {
     "data": {
      "text/html": [
       "<div>\n",
       "<style scoped>\n",
       "    .dataframe tbody tr th:only-of-type {\n",
       "        vertical-align: middle;\n",
       "    }\n",
       "\n",
       "    .dataframe tbody tr th {\n",
       "        vertical-align: top;\n",
       "    }\n",
       "\n",
       "    .dataframe thead th {\n",
       "        text-align: right;\n",
       "    }\n",
       "</style>\n",
       "<table border=\"1\" class=\"dataframe\">\n",
       "  <thead>\n",
       "    <tr style=\"text-align: right;\">\n",
       "      <th></th>\n",
       "      <th>PUBLIC_NARRATIVE</th>\n",
       "      <th>Project Stage</th>\n",
       "      <th>Estimated CONS Phase Cost Amount</th>\n",
       "      <th>NTP_DATE</th>\n",
       "      <th>COMPLETION_DATE</th>\n",
       "    </tr>\n",
       "  </thead>\n",
       "  <tbody>\n",
       "    <tr>\n",
       "      <th>0</th>\n",
       "      <td>Superstructure replacement on Ansonia Place ov...</td>\n",
       "      <td>Future Development</td>\n",
       "      <td>550000.0</td>\n",
       "      <td>07/14/2031</td>\n",
       "      <td>Unknown</td>\n",
       "    </tr>\n",
       "    <tr>\n",
       "      <th>1</th>\n",
       "      <td>Bridge preservation on South Millvale Avenue b...</td>\n",
       "      <td>Future Development</td>\n",
       "      <td>15380000.0</td>\n",
       "      <td>08/14/2034</td>\n",
       "      <td>Unknown</td>\n",
       "    </tr>\n",
       "    <tr>\n",
       "      <th>2</th>\n",
       "      <td>Bridge rehabilitation on Lowrie Street over Ri...</td>\n",
       "      <td>Future Development</td>\n",
       "      <td>750000.0</td>\n",
       "      <td>06/21/2032</td>\n",
       "      <td>Unknown</td>\n",
       "    </tr>\n",
       "    <tr>\n",
       "      <th>3</th>\n",
       "      <td>Bridge preservation on Mission Street between ...</td>\n",
       "      <td>Future Development</td>\n",
       "      <td>8984000.0</td>\n",
       "      <td>06/14/2032</td>\n",
       "      <td>Unknown</td>\n",
       "    </tr>\n",
       "    <tr>\n",
       "      <th>4</th>\n",
       "      <td>Bridge preservation on SR 400, Baum Boulevard ...</td>\n",
       "      <td>Future Development</td>\n",
       "      <td>1500000.0</td>\n",
       "      <td>06/14/2032</td>\n",
       "      <td>10/15/2034</td>\n",
       "    </tr>\n",
       "    <tr>\n",
       "      <th>5</th>\n",
       "      <td>Tunnel reconstruction and preservation work o...</td>\n",
       "      <td>Future Development</td>\n",
       "      <td>17510000.0</td>\n",
       "      <td>09/11/2034</td>\n",
       "      <td>12/01/2035</td>\n",
       "    </tr>\n",
       "    <tr>\n",
       "      <th>6</th>\n",
       "      <td>Bridge rehabilitation on structure carrying S...</td>\n",
       "      <td>In Development</td>\n",
       "      <td>5005000.0</td>\n",
       "      <td>09/13/2023</td>\n",
       "      <td>01/21/2025</td>\n",
       "    </tr>\n",
       "    <tr>\n",
       "      <th>7</th>\n",
       "      <td>Bridge rehabilitation on Swinburne Bridge, wh...</td>\n",
       "      <td>In Development</td>\n",
       "      <td>12300000.0</td>\n",
       "      <td>03/09/2026</td>\n",
       "      <td>11/04/2025</td>\n",
       "    </tr>\n",
       "    <tr>\n",
       "      <th>8</th>\n",
       "      <td>Bridge restoration/replacement on Larimer Ave...</td>\n",
       "      <td>In Development</td>\n",
       "      <td>21000000.0</td>\n",
       "      <td>08/26/2025</td>\n",
       "      <td>06/30/2027</td>\n",
       "    </tr>\n",
       "    <tr>\n",
       "      <th>9</th>\n",
       "      <td>Swindell Bridge Rehabilitation located between...</td>\n",
       "      <td>In Development</td>\n",
       "      <td>30000000.0</td>\n",
       "      <td>12/07/2026</td>\n",
       "      <td>01/07/2028</td>\n",
       "    </tr>\n",
       "    <tr>\n",
       "      <th>10</th>\n",
       "      <td>Deck replacement on Corley Street (Ganges Way...</td>\n",
       "      <td>In Development</td>\n",
       "      <td>1700000.0</td>\n",
       "      <td>06/09/2028</td>\n",
       "      <td>04/01/2029</td>\n",
       "    </tr>\n",
       "    <tr>\n",
       "      <th>11</th>\n",
       "      <td>Bridge Improvement on Calera Street over Str...</td>\n",
       "      <td>In Development</td>\n",
       "      <td>600000.0</td>\n",
       "      <td>08/30/2028</td>\n",
       "      <td>07/01/2029</td>\n",
       "    </tr>\n",
       "    <tr>\n",
       "      <th>12</th>\n",
       "      <td>Bridge restoration on Elizabeth Street over C...</td>\n",
       "      <td>In Development</td>\n",
       "      <td>4000000.0</td>\n",
       "      <td>09/10/2028</td>\n",
       "      <td>08/01/2029</td>\n",
       "    </tr>\n",
       "    <tr>\n",
       "      <th>13</th>\n",
       "      <td>Bridge Preservation on Herron Avenue over NSRC...</td>\n",
       "      <td>In Development</td>\n",
       "      <td>1800000.0</td>\n",
       "      <td>09/10/2028</td>\n",
       "      <td>08/01/2029</td>\n",
       "    </tr>\n",
       "    <tr>\n",
       "      <th>14</th>\n",
       "      <td>Bridge replacement on Corley Street (Ganges W...</td>\n",
       "      <td>In Development</td>\n",
       "      <td>2000000.0</td>\n",
       "      <td>06/09/2028</td>\n",
       "      <td>04/01/2029</td>\n",
       "    </tr>\n",
       "    <tr>\n",
       "      <th>15</th>\n",
       "      <td>Bridge improvement on California Bridge conne...</td>\n",
       "      <td>In Development</td>\n",
       "      <td>20000000.0</td>\n",
       "      <td>07/31/2031</td>\n",
       "      <td>10/15/2033</td>\n",
       "    </tr>\n",
       "    <tr>\n",
       "      <th>16</th>\n",
       "      <td>Rehabilitation of the bridge that carries 28th...</td>\n",
       "      <td>In Development</td>\n",
       "      <td>12000000.0</td>\n",
       "      <td>06/29/2025</td>\n",
       "      <td>10/03/2027</td>\n",
       "    </tr>\n",
       "    <tr>\n",
       "      <th>17</th>\n",
       "      <td>Bridge removal over PA 51, Saw Mill Run boulev...</td>\n",
       "      <td>In Development</td>\n",
       "      <td>5000000.0</td>\n",
       "      <td>06/12/2028</td>\n",
       "      <td>10/15/2029</td>\n",
       "    </tr>\n",
       "    <tr>\n",
       "      <th>18</th>\n",
       "      <td>Bridge replacement/rehabilitation on Charles ...</td>\n",
       "      <td>In Development</td>\n",
       "      <td>48000000.0</td>\n",
       "      <td>11/12/2025</td>\n",
       "      <td>11/04/2027</td>\n",
       "    </tr>\n",
       "    <tr>\n",
       "      <th>19</th>\n",
       "      <td>Bridge rehab/replacement on West Carson Stre...</td>\n",
       "      <td>In Development</td>\n",
       "      <td>7000000.0</td>\n",
       "      <td>11/25/2024</td>\n",
       "      <td>12/31/2025</td>\n",
       "    </tr>\n",
       "    <tr>\n",
       "      <th>20</th>\n",
       "      <td>Edgebrook Ave Br Repl\\nLocated over Saw MIll R...</td>\n",
       "      <td>Under Construction</td>\n",
       "      <td>908000.0</td>\n",
       "      <td>03/03/2007</td>\n",
       "      <td>07/25/2007</td>\n",
       "    </tr>\n",
       "    <tr>\n",
       "      <th>21</th>\n",
       "      <td>Widen roadway and bridge rehabilitation (West...</td>\n",
       "      <td>Under Construction</td>\n",
       "      <td>7703993.0</td>\n",
       "      <td>02/06/2020</td>\n",
       "      <td>01/10/2022</td>\n",
       "    </tr>\n",
       "    <tr>\n",
       "      <th>22</th>\n",
       "      <td>Bridge preservation on 30th Street from River...</td>\n",
       "      <td>Under Construction</td>\n",
       "      <td>2316454.0</td>\n",
       "      <td>09/26/2022</td>\n",
       "      <td>10/20/2023</td>\n",
       "    </tr>\n",
       "    <tr>\n",
       "      <th>23</th>\n",
       "      <td>Bridge replacement on Forbes Avenue over Nine ...</td>\n",
       "      <td>Under Construction</td>\n",
       "      <td>25548500.0</td>\n",
       "      <td>02/03/2022</td>\n",
       "      <td>12/31/2023</td>\n",
       "    </tr>\n",
       "  </tbody>\n",
       "</table>\n",
       "</div>"
      ],
      "text/plain": [
       "                                     PUBLIC_NARRATIVE       Project Stage  \\\n",
       "0   Superstructure replacement on Ansonia Place ov...  Future Development   \n",
       "1   Bridge preservation on South Millvale Avenue b...  Future Development   \n",
       "2   Bridge rehabilitation on Lowrie Street over Ri...  Future Development   \n",
       "3   Bridge preservation on Mission Street between ...  Future Development   \n",
       "4   Bridge preservation on SR 400, Baum Boulevard ...  Future Development   \n",
       "5    Tunnel reconstruction and preservation work o...  Future Development   \n",
       "6    Bridge rehabilitation on structure carrying S...      In Development   \n",
       "7    Bridge rehabilitation on Swinburne Bridge, wh...      In Development   \n",
       "8    Bridge restoration/replacement on Larimer Ave...      In Development   \n",
       "9   Swindell Bridge Rehabilitation located between...      In Development   \n",
       "10   Deck replacement on Corley Street (Ganges Way...      In Development   \n",
       "11    Bridge Improvement on Calera Street over Str...      In Development   \n",
       "12   Bridge restoration on Elizabeth Street over C...      In Development   \n",
       "13  Bridge Preservation on Herron Avenue over NSRC...      In Development   \n",
       "14   Bridge replacement on Corley Street (Ganges W...      In Development   \n",
       "15   Bridge improvement on California Bridge conne...      In Development   \n",
       "16  Rehabilitation of the bridge that carries 28th...      In Development   \n",
       "17  Bridge removal over PA 51, Saw Mill Run boulev...      In Development   \n",
       "18   Bridge replacement/rehabilitation on Charles ...      In Development   \n",
       "19    Bridge rehab/replacement on West Carson Stre...      In Development   \n",
       "20  Edgebrook Ave Br Repl\\nLocated over Saw MIll R...  Under Construction   \n",
       "21   Widen roadway and bridge rehabilitation (West...  Under Construction   \n",
       "22   Bridge preservation on 30th Street from River...  Under Construction   \n",
       "23  Bridge replacement on Forbes Avenue over Nine ...  Under Construction   \n",
       "\n",
       "    Estimated CONS Phase Cost Amount    NTP_DATE COMPLETION_DATE  \n",
       "0                           550000.0  07/14/2031         Unknown  \n",
       "1                         15380000.0  08/14/2034         Unknown  \n",
       "2                           750000.0  06/21/2032         Unknown  \n",
       "3                          8984000.0  06/14/2032         Unknown  \n",
       "4                          1500000.0  06/14/2032      10/15/2034  \n",
       "5                         17510000.0  09/11/2034      12/01/2035  \n",
       "6                          5005000.0  09/13/2023      01/21/2025  \n",
       "7                         12300000.0  03/09/2026      11/04/2025  \n",
       "8                         21000000.0  08/26/2025      06/30/2027  \n",
       "9                         30000000.0  12/07/2026      01/07/2028  \n",
       "10                         1700000.0  06/09/2028      04/01/2029  \n",
       "11                          600000.0  08/30/2028      07/01/2029  \n",
       "12                         4000000.0  09/10/2028      08/01/2029  \n",
       "13                         1800000.0  09/10/2028      08/01/2029  \n",
       "14                         2000000.0  06/09/2028      04/01/2029  \n",
       "15                        20000000.0  07/31/2031      10/15/2033  \n",
       "16                        12000000.0  06/29/2025      10/03/2027  \n",
       "17                         5000000.0  06/12/2028      10/15/2029  \n",
       "18                        48000000.0  11/12/2025      11/04/2027  \n",
       "19                         7000000.0  11/25/2024      12/31/2025  \n",
       "20                          908000.0  03/03/2007      07/25/2007  \n",
       "21                         7703993.0  02/06/2020      01/10/2022  \n",
       "22                         2316454.0  09/26/2022      10/20/2023  \n",
       "23                        25548500.0  02/03/2022      12/31/2023  "
      ]
     },
     "execution_count": 11,
     "metadata": {},
     "output_type": "execute_result"
    }
   ],
   "source": [
    "df[[\n",
    "    'PUBLIC_NARRATIVE',\n",
    "    'Project Stage',\n",
    "    'Estimated CONS Phase Cost Amount',\n",
    "    'NTP_DATE',\n",
    "    'COMPLETION_DATE'\n",
    "]]"
   ]
  },
  {
   "cell_type": "code",
   "execution_count": 13,
   "id": "f6cacd17-f8b1-4d0a-9a37-9c9efaab73df",
   "metadata": {
    "tags": []
   },
   "outputs": [],
   "source": [
    "df[[\n",
    "    'PUBLIC_NARRATIVE',\n",
    "    'Project Stage',\n",
    "    'Estimated CONS Phase Cost Amount',\n",
    "    'NTP_DATE',\n",
    "    'COMPLETION_DATE'\n",
    "]].to_csv('output/pgh-bridges.csv', index=False)"
   ]
  }
 ],
 "metadata": {
  "kernelspec": {
   "display_name": "Python 3 (ipykernel)",
   "language": "python",
   "name": "python3"
  },
  "language_info": {
   "codemirror_mode": {
    "name": "ipython",
    "version": 3
   },
   "file_extension": ".py",
   "mimetype": "text/x-python",
   "name": "python",
   "nbconvert_exporter": "python",
   "pygments_lexer": "ipython3",
   "version": "3.10.9"
  }
 },
 "nbformat": 4,
 "nbformat_minor": 5
}
