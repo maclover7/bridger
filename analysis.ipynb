{
 "cells": [
  {
   "cell_type": "code",
   "execution_count": 1,
   "id": "61f7fca7-b525-47f4-82c6-cc07999e665a",
   "metadata": {
    "tags": []
   },
   "outputs": [],
   "source": [
    "import pandas as pd\n",
    "import geopandas as gpd"
   ]
  },
  {
   "cell_type": "markdown",
   "id": "33e4df35-7565-4249-bb8b-8dce41c547ea",
   "metadata": {},
   "source": [
    "### Import all bridge projects in Allegheny County"
   ]
  },
  {
   "cell_type": "code",
   "execution_count": 2,
   "id": "e71eec1f-a97f-4b1b-88f1-98bc3e58ca19",
   "metadata": {
    "tags": []
   },
   "outputs": [],
   "source": [
    "future = gpd.read_file('input/Future_Development___All.zip')\n",
    "future = future.set_crs('EPSG:3857')\n",
    "\n",
    "indev = gpd.read_file('input/In_Development___All.zip')\n",
    "indev = indev.set_crs('EPSG:3857')\n",
    "\n",
    "construct = gpd.read_file('input/constr.zip')\n",
    "construct = construct.set_crs('EPSG:3857')"
   ]
  },
  {
   "cell_type": "code",
   "execution_count": 3,
   "id": "52e2a5c9-97ed-4f9d-9a00-dc8cb78aaa83",
   "metadata": {
    "tags": []
   },
   "outputs": [],
   "source": [
    "df = pd.concat([future, indev, construct])\n",
    "df = df.to_crs('EPSG:4326')"
   ]
  },
  {
   "cell_type": "code",
   "execution_count": 4,
   "id": "d5196ab8-3cd8-4215-8b1a-bda3475ce668",
   "metadata": {
    "tags": []
   },
   "outputs": [
    {
     "name": "stdout",
     "output_type": "stream",
     "text": [
      "<class 'geopandas.geodataframe.GeoDataFrame'>\n",
      "Int64Index: 1041 entries, 0 to 467\n",
      "Columns: 125 entries, GISDATA_PR to geometry\n",
      "dtypes: float64(11), geometry(1), int64(13), object(100)\n",
      "memory usage: 1.0+ MB\n"
     ]
    }
   ],
   "source": [
    "df.info()"
   ]
  },
  {
   "cell_type": "markdown",
   "id": "69128323-106b-4bbe-a139-7f0a71f2c56f",
   "metadata": {},
   "source": [
    "### Restrict to Pittsburgh-owned bridges, only include projects once"
   ]
  },
  {
   "cell_type": "code",
   "execution_count": 5,
   "id": "9c263073-4fea-4ee1-b744-440ab3d0c94c",
   "metadata": {
    "tags": []
   },
   "outputs": [],
   "source": [
    "df = df[df['PROJECT_SP'] == 'City of Pittsburgh']"
   ]
  },
  {
   "cell_type": "code",
   "execution_count": 6,
   "id": "6d43348e-8856-4e05-9f41-d80010d1810b",
   "metadata": {
    "tags": []
   },
   "outputs": [],
   "source": [
    "df['PROJECT__6'] = df['PROJECT__6'].str.title()\n",
    "df['PUBLIC_NAR'] = df['PUBLIC_NAR'].str.replace('(Sponor = City of Pittsburgh) ', '', regex=False)\n",
    "df['PUBLIC_NAR'] = df['PUBLIC_NAR'].str.replace('(Sponsor = City of Pittsburgh)', '', regex=False)\n",
    "df['PUBLIC_NAR'] = df['PUBLIC_NAR'].str.replace('(Project sponsor = City of Pittsburgh)', '', regex=False)"
   ]
  },
  {
   "cell_type": "code",
   "execution_count": 7,
   "id": "e1963a82-acf1-4c94-8010-4ce0e4f00a86",
   "metadata": {
    "tags": []
   },
   "outputs": [],
   "source": [
    "df = df.drop_duplicates('PROJECT_ID')\n",
    "df = df.reset_index(drop=True)"
   ]
  },
  {
   "cell_type": "code",
   "execution_count": 8,
   "id": "ac227bb4-824b-4a51-8fb5-62608fffb972",
   "metadata": {
    "tags": []
   },
   "outputs": [],
   "source": [
    "df.loc[df['COMPLETI_1'].notna(), 'COMPLETI_1 DT'] = pd.to_datetime(df['COMPLETI_1'], format='%Y%m%d')\n",
    "\n",
    "df.loc[df['COMPLETI_1'].notna(), 'COMPLETI_1'] = df['COMPLETI_1 DT'].dt.strftime('%m/%d/%Y')\n",
    "df.loc[df['COMPLETI_1'].isna(), 'COMPLETI_1'] = 'Unknown'"
   ]
  },
  {
   "cell_type": "code",
   "execution_count": 9,
   "id": "7273b5e0-fb53-47da-974e-d9b2a9924e7e",
   "metadata": {},
   "outputs": [],
   "source": [
    "df['NTP_DATE'] = pd.to_datetime(df['NTP_DATE'], format='%Y%m%d')\n",
    "df['NTP_DATE'] = df['NTP_DATE'].dt.strftime('%m/%d/%Y')"
   ]
  },
  {
   "cell_type": "code",
   "execution_count": 10,
   "id": "0eb93179-9d6a-45e0-8777-54a3a645a5d0",
   "metadata": {
    "tags": []
   },
   "outputs": [],
   "source": [
    "df['lng'] = df.apply(lambda x: x['geometry'].coords[0][0], axis=1)\n",
    "df['lat'] = df.apply(lambda x: x['geometry'].coords[0][1], axis=1)"
   ]
  },
  {
   "cell_type": "code",
   "execution_count": 11,
   "id": "c1be5024-4214-4c2f-84fd-cacaf7a6c23f",
   "metadata": {
    "tags": []
   },
   "outputs": [
    {
     "name": "stdout",
     "output_type": "stream",
     "text": [
      "<class 'geopandas.geodataframe.GeoDataFrame'>\n",
      "RangeIndex: 24 entries, 0 to 23\n",
      "Columns: 128 entries, GISDATA_PR to lat\n",
      "dtypes: datetime64[ns](1), float64(13), geometry(1), int64(13), object(100)\n",
      "memory usage: 24.1+ KB\n"
     ]
    }
   ],
   "source": [
    "df.info()"
   ]
  },
  {
   "cell_type": "markdown",
   "id": "a71d6d51-5bcd-4d76-8612-f154213561a2",
   "metadata": {},
   "source": [
    "### Properly format"
   ]
  },
  {
   "cell_type": "code",
   "execution_count": 12,
   "id": "ebd50eac-0bcb-4276-a39f-3131418258c9",
   "metadata": {
    "tags": []
   },
   "outputs": [
    {
     "data": {
      "text/html": [
       "<div>\n",
       "<style scoped>\n",
       "    .dataframe tbody tr th:only-of-type {\n",
       "        vertical-align: middle;\n",
       "    }\n",
       "\n",
       "    .dataframe tbody tr th {\n",
       "        vertical-align: top;\n",
       "    }\n",
       "\n",
       "    .dataframe thead th {\n",
       "        text-align: right;\n",
       "    }\n",
       "</style>\n",
       "<table border=\"1\" class=\"dataframe\">\n",
       "  <thead>\n",
       "    <tr style=\"text-align: right;\">\n",
       "      <th></th>\n",
       "      <th>lng</th>\n",
       "      <th>lat</th>\n",
       "      <th>PUBLIC_NAR</th>\n",
       "      <th>PROJECT__6</th>\n",
       "      <th>EST_CONSTR</th>\n",
       "      <th>NTP_DATE</th>\n",
       "      <th>COMPLETI_1</th>\n",
       "    </tr>\n",
       "  </thead>\n",
       "  <tbody>\n",
       "    <tr>\n",
       "      <th>0</th>\n",
       "      <td>-79.997600</td>\n",
       "      <td>40.394500</td>\n",
       "      <td>Superstructure replacement on Ansonia Place ov...</td>\n",
       "      <td>Future Development</td>\n",
       "      <td>550000.0</td>\n",
       "      <td>07/14/2031</td>\n",
       "      <td>Unknown</td>\n",
       "    </tr>\n",
       "    <tr>\n",
       "      <th>1</th>\n",
       "      <td>-79.947500</td>\n",
       "      <td>40.457000</td>\n",
       "      <td>Bridge preservation on South Millvale Avenue b...</td>\n",
       "      <td>Future Development</td>\n",
       "      <td>15380000.0</td>\n",
       "      <td>08/14/2034</td>\n",
       "      <td>Unknown</td>\n",
       "    </tr>\n",
       "    <tr>\n",
       "      <th>2</th>\n",
       "      <td>-79.981200</td>\n",
       "      <td>40.465700</td>\n",
       "      <td>Bridge rehabilitation on Lowrie Street over Ri...</td>\n",
       "      <td>Future Development</td>\n",
       "      <td>750000.0</td>\n",
       "      <td>06/21/2032</td>\n",
       "      <td>Unknown</td>\n",
       "    </tr>\n",
       "    <tr>\n",
       "      <th>3</th>\n",
       "      <td>-79.976800</td>\n",
       "      <td>40.423600</td>\n",
       "      <td>Bridge preservation on Mission Street between ...</td>\n",
       "      <td>Future Development</td>\n",
       "      <td>8984000.0</td>\n",
       "      <td>06/14/2032</td>\n",
       "      <td>Unknown</td>\n",
       "    </tr>\n",
       "    <tr>\n",
       "      <th>4</th>\n",
       "      <td>-79.951818</td>\n",
       "      <td>40.454023</td>\n",
       "      <td>Bridge preservation on SR 400, Baum Boulevard ...</td>\n",
       "      <td>Future Development</td>\n",
       "      <td>1500000.0</td>\n",
       "      <td>06/14/2032</td>\n",
       "      <td>10/15/2034</td>\n",
       "    </tr>\n",
       "    <tr>\n",
       "      <th>5</th>\n",
       "      <td>-80.043300</td>\n",
       "      <td>40.451700</td>\n",
       "      <td>Tunnel reconstruction and preservation work o...</td>\n",
       "      <td>Future Development</td>\n",
       "      <td>17510000.0</td>\n",
       "      <td>09/11/2034</td>\n",
       "      <td>12/01/2035</td>\n",
       "    </tr>\n",
       "    <tr>\n",
       "      <th>6</th>\n",
       "      <td>-79.933500</td>\n",
       "      <td>40.456300</td>\n",
       "      <td>Bridge rehabilitation on structure carrying S...</td>\n",
       "      <td>In Development</td>\n",
       "      <td>5005000.0</td>\n",
       "      <td>09/13/2023</td>\n",
       "      <td>01/21/2025</td>\n",
       "    </tr>\n",
       "    <tr>\n",
       "      <th>7</th>\n",
       "      <td>-79.950500</td>\n",
       "      <td>40.426700</td>\n",
       "      <td>Bridge rehabilitation on Swinburne Bridge, wh...</td>\n",
       "      <td>In Development</td>\n",
       "      <td>12300000.0</td>\n",
       "      <td>03/09/2026</td>\n",
       "      <td>11/04/2025</td>\n",
       "    </tr>\n",
       "    <tr>\n",
       "      <th>8</th>\n",
       "      <td>-79.907600</td>\n",
       "      <td>40.467700</td>\n",
       "      <td>Bridge restoration/replacement on Larimer Ave...</td>\n",
       "      <td>In Development</td>\n",
       "      <td>21000000.0</td>\n",
       "      <td>08/26/2025</td>\n",
       "      <td>06/30/2027</td>\n",
       "    </tr>\n",
       "    <tr>\n",
       "      <th>9</th>\n",
       "      <td>-80.004900</td>\n",
       "      <td>40.472600</td>\n",
       "      <td>Swindell Bridge Rehabilitation located between...</td>\n",
       "      <td>In Development</td>\n",
       "      <td>30000000.0</td>\n",
       "      <td>12/07/2026</td>\n",
       "      <td>01/07/2028</td>\n",
       "    </tr>\n",
       "    <tr>\n",
       "      <th>10</th>\n",
       "      <td>-80.007900</td>\n",
       "      <td>40.471100</td>\n",
       "      <td>Deck replacement on Corley Street (Ganges Way...</td>\n",
       "      <td>In Development</td>\n",
       "      <td>1700000.0</td>\n",
       "      <td>06/09/2028</td>\n",
       "      <td>04/01/2029</td>\n",
       "    </tr>\n",
       "    <tr>\n",
       "      <th>11</th>\n",
       "      <td>-79.932900</td>\n",
       "      <td>40.383000</td>\n",
       "      <td>Bridge Improvement on Calera Street over Stre...</td>\n",
       "      <td>In Development</td>\n",
       "      <td>600000.0</td>\n",
       "      <td>08/30/2028</td>\n",
       "      <td>07/01/2029</td>\n",
       "    </tr>\n",
       "    <tr>\n",
       "      <th>12</th>\n",
       "      <td>-79.944100</td>\n",
       "      <td>40.407000</td>\n",
       "      <td>Bridge restoration on Elizabeth Street over CS...</td>\n",
       "      <td>In Development</td>\n",
       "      <td>4000000.0</td>\n",
       "      <td>09/10/2028</td>\n",
       "      <td>08/01/2029</td>\n",
       "    </tr>\n",
       "    <tr>\n",
       "      <th>13</th>\n",
       "      <td>-79.934700</td>\n",
       "      <td>40.380000</td>\n",
       "      <td>Bridge replacement on Corley Street (Ganges W...</td>\n",
       "      <td>In Development</td>\n",
       "      <td>2000000.0</td>\n",
       "      <td>06/09/2028</td>\n",
       "      <td>04/01/2029</td>\n",
       "    </tr>\n",
       "    <tr>\n",
       "      <th>14</th>\n",
       "      <td>-79.966600</td>\n",
       "      <td>40.460500</td>\n",
       "      <td>Bridge Preservation on Herron Avenue over NSRC...</td>\n",
       "      <td>In Development</td>\n",
       "      <td>1800000.0</td>\n",
       "      <td>09/10/2028</td>\n",
       "      <td>08/01/2029</td>\n",
       "    </tr>\n",
       "    <tr>\n",
       "      <th>15</th>\n",
       "      <td>-80.037200</td>\n",
       "      <td>40.472000</td>\n",
       "      <td>Bridge improvement on California Bridge conne...</td>\n",
       "      <td>In Development</td>\n",
       "      <td>20000000.0</td>\n",
       "      <td>07/31/2031</td>\n",
       "      <td>10/15/2033</td>\n",
       "    </tr>\n",
       "    <tr>\n",
       "      <th>16</th>\n",
       "      <td>-79.973200</td>\n",
       "      <td>40.455800</td>\n",
       "      <td>Rehabilitation of the bridge that carries 28th...</td>\n",
       "      <td>In Development</td>\n",
       "      <td>12000000.0</td>\n",
       "      <td>06/29/2025</td>\n",
       "      <td>10/03/2027</td>\n",
       "    </tr>\n",
       "    <tr>\n",
       "      <th>17</th>\n",
       "      <td>-80.016700</td>\n",
       "      <td>40.425000</td>\n",
       "      <td>Bridge removal over PA 51, Saw Mill Run boulev...</td>\n",
       "      <td>In Development</td>\n",
       "      <td>5000000.0</td>\n",
       "      <td>06/12/2028</td>\n",
       "      <td>10/15/2029</td>\n",
       "    </tr>\n",
       "    <tr>\n",
       "      <th>18</th>\n",
       "      <td>-79.950100</td>\n",
       "      <td>40.434400</td>\n",
       "      <td>Bridge replacement/rehabilitation on Charles ...</td>\n",
       "      <td>In Development</td>\n",
       "      <td>48000000.0</td>\n",
       "      <td>11/12/2025</td>\n",
       "      <td>11/04/2027</td>\n",
       "    </tr>\n",
       "    <tr>\n",
       "      <th>19</th>\n",
       "      <td>-80.053600</td>\n",
       "      <td>40.464900</td>\n",
       "      <td>Bridge rehab/replacement on West Carson Stree...</td>\n",
       "      <td>In Development</td>\n",
       "      <td>7000000.0</td>\n",
       "      <td>11/25/2024</td>\n",
       "      <td>12/31/2025</td>\n",
       "    </tr>\n",
       "    <tr>\n",
       "      <th>20</th>\n",
       "      <td>-80.001100</td>\n",
       "      <td>40.402000</td>\n",
       "      <td>Edgebrook Ave Br Repl\\r\\nLocated over Saw MIll...</td>\n",
       "      <td>Under Construction</td>\n",
       "      <td>908000.0</td>\n",
       "      <td>03/03/2007</td>\n",
       "      <td>07/25/2007</td>\n",
       "    </tr>\n",
       "    <tr>\n",
       "      <th>21</th>\n",
       "      <td>-80.010700</td>\n",
       "      <td>40.451600</td>\n",
       "      <td>Widen roadway and bridge rehabilitation (West...</td>\n",
       "      <td>Under Construction</td>\n",
       "      <td>7703993.0</td>\n",
       "      <td>02/06/2020</td>\n",
       "      <td>01/10/2022</td>\n",
       "    </tr>\n",
       "    <tr>\n",
       "      <th>22</th>\n",
       "      <td>-79.978800</td>\n",
       "      <td>40.464300</td>\n",
       "      <td>Bridge preservation on 30th Street from River...</td>\n",
       "      <td>Under Construction</td>\n",
       "      <td>2316454.0</td>\n",
       "      <td>09/26/2022</td>\n",
       "      <td>10/20/2023</td>\n",
       "    </tr>\n",
       "    <tr>\n",
       "      <th>23</th>\n",
       "      <td>-79.900300</td>\n",
       "      <td>40.439500</td>\n",
       "      <td>Bridge replacement on Forbes Avenue over Nine ...</td>\n",
       "      <td>Under Construction</td>\n",
       "      <td>25548500.0</td>\n",
       "      <td>02/03/2022</td>\n",
       "      <td>12/31/2023</td>\n",
       "    </tr>\n",
       "  </tbody>\n",
       "</table>\n",
       "</div>"
      ],
      "text/plain": [
       "          lng        lat                                         PUBLIC_NAR  \\\n",
       "0  -79.997600  40.394500  Superstructure replacement on Ansonia Place ov...   \n",
       "1  -79.947500  40.457000  Bridge preservation on South Millvale Avenue b...   \n",
       "2  -79.981200  40.465700  Bridge rehabilitation on Lowrie Street over Ri...   \n",
       "3  -79.976800  40.423600  Bridge preservation on Mission Street between ...   \n",
       "4  -79.951818  40.454023  Bridge preservation on SR 400, Baum Boulevard ...   \n",
       "5  -80.043300  40.451700   Tunnel reconstruction and preservation work o...   \n",
       "6  -79.933500  40.456300   Bridge rehabilitation on structure carrying S...   \n",
       "7  -79.950500  40.426700   Bridge rehabilitation on Swinburne Bridge, wh...   \n",
       "8  -79.907600  40.467700   Bridge restoration/replacement on Larimer Ave...   \n",
       "9  -80.004900  40.472600  Swindell Bridge Rehabilitation located between...   \n",
       "10 -80.007900  40.471100   Deck replacement on Corley Street (Ganges Way...   \n",
       "11 -79.932900  40.383000   Bridge Improvement on Calera Street over Stre...   \n",
       "12 -79.944100  40.407000  Bridge restoration on Elizabeth Street over CS...   \n",
       "13 -79.934700  40.380000   Bridge replacement on Corley Street (Ganges W...   \n",
       "14 -79.966600  40.460500  Bridge Preservation on Herron Avenue over NSRC...   \n",
       "15 -80.037200  40.472000   Bridge improvement on California Bridge conne...   \n",
       "16 -79.973200  40.455800  Rehabilitation of the bridge that carries 28th...   \n",
       "17 -80.016700  40.425000  Bridge removal over PA 51, Saw Mill Run boulev...   \n",
       "18 -79.950100  40.434400   Bridge replacement/rehabilitation on Charles ...   \n",
       "19 -80.053600  40.464900   Bridge rehab/replacement on West Carson Stree...   \n",
       "20 -80.001100  40.402000  Edgebrook Ave Br Repl\\r\\nLocated over Saw MIll...   \n",
       "21 -80.010700  40.451600   Widen roadway and bridge rehabilitation (West...   \n",
       "22 -79.978800  40.464300   Bridge preservation on 30th Street from River...   \n",
       "23 -79.900300  40.439500  Bridge replacement on Forbes Avenue over Nine ...   \n",
       "\n",
       "            PROJECT__6  EST_CONSTR    NTP_DATE  COMPLETI_1  \n",
       "0   Future Development    550000.0  07/14/2031     Unknown  \n",
       "1   Future Development  15380000.0  08/14/2034     Unknown  \n",
       "2   Future Development    750000.0  06/21/2032     Unknown  \n",
       "3   Future Development   8984000.0  06/14/2032     Unknown  \n",
       "4   Future Development   1500000.0  06/14/2032  10/15/2034  \n",
       "5   Future Development  17510000.0  09/11/2034  12/01/2035  \n",
       "6       In Development   5005000.0  09/13/2023  01/21/2025  \n",
       "7       In Development  12300000.0  03/09/2026  11/04/2025  \n",
       "8       In Development  21000000.0  08/26/2025  06/30/2027  \n",
       "9       In Development  30000000.0  12/07/2026  01/07/2028  \n",
       "10      In Development   1700000.0  06/09/2028  04/01/2029  \n",
       "11      In Development    600000.0  08/30/2028  07/01/2029  \n",
       "12      In Development   4000000.0  09/10/2028  08/01/2029  \n",
       "13      In Development   2000000.0  06/09/2028  04/01/2029  \n",
       "14      In Development   1800000.0  09/10/2028  08/01/2029  \n",
       "15      In Development  20000000.0  07/31/2031  10/15/2033  \n",
       "16      In Development  12000000.0  06/29/2025  10/03/2027  \n",
       "17      In Development   5000000.0  06/12/2028  10/15/2029  \n",
       "18      In Development  48000000.0  11/12/2025  11/04/2027  \n",
       "19      In Development   7000000.0  11/25/2024  12/31/2025  \n",
       "20  Under Construction    908000.0  03/03/2007  07/25/2007  \n",
       "21  Under Construction   7703993.0  02/06/2020  01/10/2022  \n",
       "22  Under Construction   2316454.0  09/26/2022  10/20/2023  \n",
       "23  Under Construction  25548500.0  02/03/2022  12/31/2023  "
      ]
     },
     "execution_count": 12,
     "metadata": {},
     "output_type": "execute_result"
    }
   ],
   "source": [
    "df[[\n",
    "    'lng',\n",
    "    'lat',\n",
    "    'PUBLIC_NAR',\n",
    "    'PROJECT__6',\n",
    "    'EST_CONSTR',\n",
    "    'NTP_DATE',\n",
    "    'COMPLETI_1'\n",
    "]]"
   ]
  },
  {
   "cell_type": "code",
   "execution_count": 13,
   "id": "f6cacd17-f8b1-4d0a-9a37-9c9efaab73df",
   "metadata": {
    "tags": []
   },
   "outputs": [],
   "source": [
    "df[[\n",
    "    'lng',\n",
    "    'lat',\n",
    "    'PUBLIC_NAR',\n",
    "    'PROJECT__6',\n",
    "    'EST_CONSTR',\n",
    "    'NTP_DATE',\n",
    "    'COMPLETI_1'\n",
    "]].to_csv('output/pgh-bridges.csv', index=False)"
   ]
  }
 ],
 "metadata": {
  "kernelspec": {
   "display_name": "Python 3 (ipykernel)",
   "language": "python",
   "name": "python3"
  },
  "language_info": {
   "codemirror_mode": {
    "name": "ipython",
    "version": 3
   },
   "file_extension": ".py",
   "mimetype": "text/x-python",
   "name": "python",
   "nbconvert_exporter": "python",
   "pygments_lexer": "ipython3",
   "version": "3.10.9"
  }
 },
 "nbformat": 4,
 "nbformat_minor": 5
}
